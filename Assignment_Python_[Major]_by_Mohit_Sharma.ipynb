{
  "nbformat": 4,
  "nbformat_minor": 0,
  "metadata": {
    "colab": {
      "provenance": []
    },
    "kernelspec": {
      "name": "python3",
      "display_name": "Python 3"
    },
    "language_info": {
      "name": "python"
    }
  },
  "cells": [
    {
      "cell_type": "markdown",
      "source": [
        "1. Find the datatype of these two declaration :\n",
        "x = 5\n",
        "y = \"John\""
      ],
      "metadata": {
        "id": "4EgxibEH0KZH"
      }
    },
    {
      "cell_type": "code",
      "source": [
        "x = 5\n",
        "y = \"john\"\n",
        "type(x)"
      ],
      "metadata": {
        "colab": {
          "base_uri": "https://localhost:8080/"
        },
        "id": "8_tvZs5T0MXS",
        "outputId": "6c789ee7-ad61-4277-c40b-850c010d5850"
      },
      "execution_count": 6,
      "outputs": [
        {
          "output_type": "execute_result",
          "data": {
            "text/plain": [
              "int"
            ]
          },
          "metadata": {},
          "execution_count": 6
        }
      ]
    },
    {
      "cell_type": "code",
      "source": [
        "type(y)"
      ],
      "metadata": {
        "colab": {
          "base_uri": "https://localhost:8080/"
        },
        "id": "NLvRCr-q0VDm",
        "outputId": "c1b3fbad-73af-4cc5-f976-98269aa91162"
      },
      "execution_count": 7,
      "outputs": [
        {
          "output_type": "execute_result",
          "data": {
            "text/plain": [
              "str"
            ]
          },
          "metadata": {},
          "execution_count": 7
        }
      ]
    },
    {
      "cell_type": "markdown",
      "source": [
        "2. Check whether the following syntax is valid or invalid for naming\n",
        "a variable. :\n",
        "Example: abc=100 #valid syntax\n",
        "i. 3a=10\n",
        "ii. @abc=10\n",
        "iii. a100=100\n",
        "iv. _a984_=100\n",
        "v. a9967$=100\n",
        "vi. xyz-2=100"
      ],
      "metadata": {
        "id": "LlLiwCFb0q_J"
      }
    },
    {
      "cell_type": "code",
      "source": [
        "3a = 10 #Invaild"
      ],
      "metadata": {
        "colab": {
          "base_uri": "https://localhost:8080/",
          "height": 130
        },
        "id": "uDHmVN8p0tXX",
        "outputId": "f91ba371-c074-4bc7-fe4d-cc0cd16c2bb7"
      },
      "execution_count": 8,
      "outputs": [
        {
          "output_type": "error",
          "ename": "SyntaxError",
          "evalue": "ignored",
          "traceback": [
            "\u001b[0;36m  File \u001b[0;32m\"<ipython-input-8-f986eee6e224>\"\u001b[0;36m, line \u001b[0;32m1\u001b[0m\n\u001b[0;31m    3a = 10\u001b[0m\n\u001b[0m    ^\u001b[0m\n\u001b[0;31mSyntaxError\u001b[0m\u001b[0;31m:\u001b[0m invalid decimal literal\n"
          ]
        }
      ]
    },
    {
      "cell_type": "code",
      "source": [
        "@abc = 10 #Invaild"
      ],
      "metadata": {
        "colab": {
          "base_uri": "https://localhost:8080/",
          "height": 130
        },
        "id": "ZyvKMzyi01Pp",
        "outputId": "2e688e25-9dce-4703-d70e-b95a733ee13e"
      },
      "execution_count": 9,
      "outputs": [
        {
          "output_type": "error",
          "ename": "SyntaxError",
          "evalue": "ignored",
          "traceback": [
            "\u001b[0;36m  File \u001b[0;32m\"<ipython-input-9-20d1ea7fa179>\"\u001b[0;36m, line \u001b[0;32m1\u001b[0m\n\u001b[0;31m    @abc = 10\u001b[0m\n\u001b[0m     ^\u001b[0m\n\u001b[0;31mSyntaxError\u001b[0m\u001b[0;31m:\u001b[0m invalid syntax. Maybe you meant '==' or ':=' instead of '='?\n"
          ]
        }
      ]
    },
    {
      "cell_type": "code",
      "source": [
        "a100 =100 #Valid"
      ],
      "metadata": {
        "id": "P7oX19HE08iO"
      },
      "execution_count": 10,
      "outputs": []
    },
    {
      "cell_type": "code",
      "source": [
        "_a984_ = 100 #Valid"
      ],
      "metadata": {
        "id": "WK0jTp2B1K2p"
      },
      "execution_count": 26,
      "outputs": []
    },
    {
      "cell_type": "code",
      "source": [
        "a9967$ = 100 #Invalid"
      ],
      "metadata": {
        "colab": {
          "base_uri": "https://localhost:8080/",
          "height": 130
        },
        "id": "575J8GnN1QaQ",
        "outputId": "3de500de-313c-40a8-9971-c94b3b8f2b03"
      },
      "execution_count": 27,
      "outputs": [
        {
          "output_type": "error",
          "ename": "SyntaxError",
          "evalue": "ignored",
          "traceback": [
            "\u001b[0;36m  File \u001b[0;32m\"<ipython-input-27-09307b4835ed>\"\u001b[0;36m, line \u001b[0;32m1\u001b[0m\n\u001b[0;31m    a9967$ = 100 #Invalid\u001b[0m\n\u001b[0m         ^\u001b[0m\n\u001b[0;31mSyntaxError\u001b[0m\u001b[0;31m:\u001b[0m invalid syntax\n"
          ]
        }
      ]
    },
    {
      "cell_type": "code",
      "source": [
        "xyz-2 = 100 #Invalid"
      ],
      "metadata": {
        "colab": {
          "base_uri": "https://localhost:8080/",
          "height": 130
        },
        "id": "wZFa0pHx1beb",
        "outputId": "eaf8cac7-695d-473f-98d1-4bf307398813"
      },
      "execution_count": 28,
      "outputs": [
        {
          "output_type": "error",
          "ename": "SyntaxError",
          "evalue": "ignored",
          "traceback": [
            "\u001b[0;36m  File \u001b[0;32m\"<ipython-input-28-21ba95dce43e>\"\u001b[0;36m, line \u001b[0;32m1\u001b[0m\n\u001b[0;31m    xyz-2 = 100 #Invalid\u001b[0m\n\u001b[0m    ^\u001b[0m\n\u001b[0;31mSyntaxError\u001b[0m\u001b[0;31m:\u001b[0m cannot assign to expression here. Maybe you meant '==' instead of '='?\n"
          ]
        }
      ]
    },
    {
      "cell_type": "markdown",
      "source": [
        "3. Check if element exists in list in Python :\n",
        "list = test_list = [1, 6, 3, 5, 3, 4]\n",
        ". Check if 3 exist or not.\n",
        ". Check if 9 exists or not."
      ],
      "metadata": {
        "id": "xdQT3UxT1rVT"
      }
    },
    {
      "cell_type": "code",
      "source": [
        "test_list = [1, 6, 3, 5, 3, 4]"
      ],
      "metadata": {
        "id": "mpQvNovP1tcD"
      },
      "execution_count": 14,
      "outputs": []
    },
    {
      "cell_type": "code",
      "source": [
        "3 in test_list #yes, exist"
      ],
      "metadata": {
        "colab": {
          "base_uri": "https://localhost:8080/"
        },
        "id": "gfk8JxMS17jv",
        "outputId": "ca132601-fdf9-458e-a113-40ff51daf381"
      },
      "execution_count": 15,
      "outputs": [
        {
          "output_type": "execute_result",
          "data": {
            "text/plain": [
              "True"
            ]
          },
          "metadata": {},
          "execution_count": 15
        }
      ]
    },
    {
      "cell_type": "code",
      "source": [
        "9 in test_list #No, not exist"
      ],
      "metadata": {
        "colab": {
          "base_uri": "https://localhost:8080/"
        },
        "id": "yUH6XeOz1-KG",
        "outputId": "572d5318-0fb0-4d94-e0fe-2b2f7e4d47c0"
      },
      "execution_count": 16,
      "outputs": [
        {
          "output_type": "execute_result",
          "data": {
            "text/plain": [
              "False"
            ]
          },
          "metadata": {},
          "execution_count": 16
        }
      ]
    },
    {
      "cell_type": "markdown",
      "source": [
        "4. Take the user input to print the current date."
      ],
      "metadata": {
        "id": "2kpf_5Ze2J4M"
      }
    },
    {
      "cell_type": "code",
      "source": [
        "current_date = input(\"please enter current date in dd-mm-yyyy format: \")"
      ],
      "metadata": {
        "colab": {
          "base_uri": "https://localhost:8080/"
        },
        "id": "hfma3X5n2MoT",
        "outputId": "1d583ce3-203b-40da-d059-7da373b53a65"
      },
      "execution_count": 29,
      "outputs": [
        {
          "name": "stdout",
          "output_type": "stream",
          "text": [
            "please enter current date in dd-mm-yyyy format: 27-5-2023\n"
          ]
        }
      ]
    },
    {
      "cell_type": "code",
      "source": [
        "print(current_date)"
      ],
      "metadata": {
        "colab": {
          "base_uri": "https://localhost:8080/"
        },
        "id": "TBaU5yNS8yum",
        "outputId": "f8fd1a24-7739-4615-c09a-e2d106a5e669"
      },
      "execution_count": 30,
      "outputs": [
        {
          "output_type": "stream",
          "name": "stdout",
          "text": [
            "27-5-2023\n"
          ]
        }
      ]
    },
    {
      "cell_type": "markdown",
      "source": [
        "5. what is the output of the following code :\n",
        "a. print 9//2\n",
        "b. print 9%2"
      ],
      "metadata": {
        "id": "dFA89VOV3Asg"
      }
    },
    {
      "cell_type": "code",
      "source": [
        "print(9//2)"
      ],
      "metadata": {
        "colab": {
          "base_uri": "https://localhost:8080/"
        },
        "id": "rqGMu86k3Crw",
        "outputId": "393d06d1-3404-4388-f8f3-a2219afc8504"
      },
      "execution_count": 18,
      "outputs": [
        {
          "output_type": "stream",
          "name": "stdout",
          "text": [
            "4\n"
          ]
        }
      ]
    },
    {
      "cell_type": "code",
      "source": [
        "print(9%2)"
      ],
      "metadata": {
        "colab": {
          "base_uri": "https://localhost:8080/"
        },
        "id": "6ES7Vr123G1P",
        "outputId": "ba665e33-2e7c-4ddd-b1d2-31ed6af08935"
      },
      "execution_count": 19,
      "outputs": [
        {
          "output_type": "stream",
          "name": "stdout",
          "text": [
            "1\n"
          ]
        }
      ]
    },
    {
      "cell_type": "markdown",
      "source": [
        "6. Print First 10 natural numbers using a while loop."
      ],
      "metadata": {
        "id": "LGZ1pFQJ3NYh"
      }
    },
    {
      "cell_type": "code",
      "source": [
        "i = 1\n",
        "\n",
        "while i <= 10:\n",
        "  print(i)\n",
        "  i = i+1"
      ],
      "metadata": {
        "colab": {
          "base_uri": "https://localhost:8080/"
        },
        "id": "VBpyx66E3PiE",
        "outputId": "6c3c085f-d231-4c1a-bb6e-71cf6ff2a94a"
      },
      "execution_count": 20,
      "outputs": [
        {
          "output_type": "stream",
          "name": "stdout",
          "text": [
            "1\n",
            "2\n",
            "3\n",
            "4\n",
            "5\n",
            "6\n",
            "7\n",
            "8\n",
            "9\n",
            "10\n"
          ]
        }
      ]
    },
    {
      "cell_type": "markdown",
      "source": [
        "7. Write a program to accept a number from a user and calculate\n",
        "the sum of all numbers from 1 to a given number.\n",
        "For example, if the user entered 10 the output should be 55\n",
        "(1+2+3+4+5+6+7+8+9+10)"
      ],
      "metadata": {
        "id": "ZuSyXdcy32MC"
      }
    },
    {
      "cell_type": "code",
      "source": [
        "a = int(input('please enter natural number: '))\n",
        "total = 0\n",
        "\n",
        "for i in range(a+1):\n",
        "  total += i\n",
        "print('Total is',total)\n",
        "\n"
      ],
      "metadata": {
        "colab": {
          "base_uri": "https://localhost:8080/"
        },
        "id": "It5I9r9T34mM",
        "outputId": "a307da8f-e299-4ea1-951b-d8cf8b4e8349"
      },
      "execution_count": 31,
      "outputs": [
        {
          "output_type": "stream",
          "name": "stdout",
          "text": [
            "please enter natural number: 10\n",
            "Total is 55\n"
          ]
        }
      ]
    },
    {
      "cell_type": "markdown",
      "source": [
        "8. Write a Python program which iterates the integers from 1 to 50.\n",
        "For multiples of three print \"Fizz\" instead of the number and for\n",
        "the multiples of ﬁve print \"Buzz\". For numbers which are\n",
        "multiples of both three and ﬁve print \"FizzBuzz\".\n",
        "Example :\n",
        "ﬁzzbuzz\n",
        "1\n",
        "2\n",
        "ﬁzz\n",
        "4\n",
        "buzz"
      ],
      "metadata": {
        "id": "aG4epfWU5KoG"
      }
    },
    {
      "cell_type": "code",
      "source": [
        "def convert(a):\n",
        "  if a % 15 == 0:\n",
        "    return 'FizzBuzz'\n",
        "  if a % 3 == 0:\n",
        "    return 'Fizz'\n",
        "  if a % 5 == 0:\n",
        "    return 'Buzz'\n",
        "  return a \n",
        "\n",
        "sol = list(range(1,51))\n",
        "\n",
        "b = list(map(convert,sol))\n"
      ],
      "metadata": {
        "id": "981_CPRT5M28"
      },
      "execution_count": 24,
      "outputs": []
    },
    {
      "cell_type": "code",
      "source": [
        "print(b)"
      ],
      "metadata": {
        "colab": {
          "base_uri": "https://localhost:8080/"
        },
        "id": "2RhP6jHx7_Xc",
        "outputId": "65c4d9cc-c0c4-4aa8-f8c5-f656dbc9577b"
      },
      "execution_count": 25,
      "outputs": [
        {
          "output_type": "stream",
          "name": "stdout",
          "text": [
            "[1, 2, 'Fizz', 4, 'Buzz', 'Fizz', 7, 8, 'Fizz', 'Buzz', 11, 'Fizz', 13, 14, 'FizzBuzz', 16, 17, 'Fizz', 19, 'Buzz', 'Fizz', 22, 23, 'Fizz', 'Buzz', 26, 'Fizz', 28, 29, 'FizzBuzz', 31, 32, 'Fizz', 34, 'Buzz', 'Fizz', 37, 38, 'Fizz', 'Buzz', 41, 'Fizz', 43, 44, 'FizzBuzz', 46, 47, 'Fizz', 49, 'Buzz']\n"
          ]
        }
      ]
    }
  ]
}